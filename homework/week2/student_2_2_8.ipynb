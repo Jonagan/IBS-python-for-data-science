{
 "cells": [
  {
   "cell_type": "markdown",
   "metadata": {},
   "source": [
    "# Data Science packages\n",
    "\n",
    "### 2.2.8\n",
    "\n",
    "In this notebook you will learn about popular Python packages for data science."
   ]
  },
  {
   "cell_type": "markdown",
   "metadata": {},
   "source": [
    "## New data!\n",
    "\n",
    "### From now on you are free to choose any additional packages you want to use. The sky is the limit!\n",
    "\n",
    "# Supermarket sales"
   ]
  },
  {
   "cell_type": "code",
   "execution_count": null,
   "metadata": {},
   "outputs": [],
   "source": [
    "# import pandas \n",
    "..."
   ]
  },
  {
   "cell_type": "code",
   "execution_count": null,
   "metadata": {},
   "outputs": [],
   "source": [
    "# Uncomment and run the following command to download the .csv file if you haven't already\n",
    "# !wget https://github.com/sijmenw/IBS-python-for-data-science/raw/master/homework/week2/supermarket.csv"
   ]
  },
  {
   "cell_type": "code",
   "execution_count": null,
   "metadata": {},
   "outputs": [],
   "source": [
    "# load the data using pandas\n",
    "..."
   ]
  },
  {
   "cell_type": "markdown",
   "metadata": {},
   "source": [
    "# Create datetime column\n",
    "Suggested steps:\n",
    " - Combine date and time in a single column\n",
    " - using pandas to_datetime to create a new column, datetime\n",
    " - use df.dtypes to check the types in the DataFrame\n",
    "\n",
    "For more on pd.to_datetime, look [here](https://pandas.pydata.org/pandas-docs/stable/reference/api/pandas.to_datetime.html) and [here](https://stackoverflow.com/questions/26763344/convert-pandas-column-to-datetime) "
   ]
  },
  {
   "cell_type": "code",
   "execution_count": null,
   "metadata": {},
   "outputs": [],
   "source": [
    "# create a datetime columns"
   ]
  },
  {
   "cell_type": "markdown",
   "metadata": {},
   "source": [
    "# Calculate January gross income\n",
    "\n",
    "Suggested steps:\n",
    " - Filter by time ( >= Jan 1st and < Feb 1st )\n",
    " - Sum over selection"
   ]
  },
  {
   "cell_type": "code",
   "execution_count": null,
   "metadata": {},
   "outputs": [],
   "source": []
  },
  {
   "cell_type": "markdown",
   "metadata": {},
   "source": [
    "# Data Insights!\n",
    "\n",
    "This is where the fun begins, you have the tools to start getting answers using pandas.\n",
    "\n",
    "The head of the supermarket chain hired you as a data scientist, he has heard that data is the new gold and has tasked you to find it.\n",
    "\n",
    "Work out at least three of the following questions that are relevant to the head of the supermarket chain.\n",
    "\n",
    "Example questions:\n",
    "\n",
    " - (easy) What is the average customer spending?\n",
    " - (medium) What is the average customer spending per city?\n",
    " - (medium) What is the highest average margin product line?\n",
    " - (hard) How does customer spending change over time? (look for trends)"
   ]
  },
  {
   "cell_type": "code",
   "execution_count": null,
   "metadata": {},
   "outputs": [],
   "source": []
  },
  {
   "cell_type": "markdown",
   "metadata": {},
   "source": [
    "# [OPTIONAL] Extra:\n",
    "\n",
    "Come up with visualisations to present your story to the head of the supermarket chain\n",
    "\n",
    "\n",
    "Use pandas in-built support, two examples are given below"
   ]
  },
  {
   "cell_type": "markdown",
   "metadata": {},
   "source": [
    "if you're not familiar with box plot, check [here](https://en.wikipedia.org/wiki/Box_plot)"
   ]
  },
  {
   "cell_type": "code",
   "execution_count": null,
   "metadata": {},
   "outputs": [],
   "source": [
    "# show distribution\n",
    "df[['Total']].boxplot()"
   ]
  },
  {
   "cell_type": "code",
   "execution_count": null,
   "metadata": {},
   "outputs": [],
   "source": [
    "df.groupby('Customer type').boxplot(column='Total')"
   ]
  }
 ],
 "metadata": {
  "kernelspec": {
   "display_name": "Python 3",
   "language": "python",
   "name": "python3"
  },
  "language_info": {
   "codemirror_mode": {
    "name": "ipython",
    "version": 3
   },
   "file_extension": ".py",
   "mimetype": "text/x-python",
   "name": "python",
   "nbconvert_exporter": "python",
   "pygments_lexer": "ipython3",
   "version": "3.8.3"
  }
 },
 "nbformat": 4,
 "nbformat_minor": 4
}
