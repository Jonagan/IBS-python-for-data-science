{
 "cells": [
  {
   "cell_type": "markdown",
   "metadata": {},
   "source": [
    "# Python practice\n",
    "\n",
    "### This notebook is optional for the homework\n",
    "\n",
    "In this notebook there is an exercise given to practice your Python + data science skills"
   ]
  },
  {
   "cell_type": "markdown",
   "metadata": {},
   "source": [
    "# Pokemon fight!\n",
    "\n",
    "You want to write a function the accepts two Pokemon as arguments, and returns the winner of the fight.\n",
    "\n",
    "The following rules are suggested:\n",
    " - Deal damage according to `attack`, `against_type` multiplier and `type1` of the opponent\n",
    " - The Pokemon with the highest speed goes first\n",
    " - When hp drops to 0 or below, the opponent wins\n",
    "\n",
    "Feel free to implement your own rules, if you do, describe the rules you implemented."
   ]
  },
  {
   "cell_type": "code",
   "execution_count": null,
   "metadata": {},
   "outputs": [],
   "source": [
    "def poke_fight(pokemon1, pokemon2):\n",
    "    # TODO: complete this function\n",
    "    pass"
   ]
  }
 ],
 "metadata": {
  "kernelspec": {
   "display_name": "Python 3",
   "language": "python",
   "name": "python3"
  },
  "language_info": {
   "codemirror_mode": {
    "name": "ipython",
    "version": 3
   },
   "file_extension": ".py",
   "mimetype": "text/x-python",
   "name": "python",
   "nbconvert_exporter": "python",
   "pygments_lexer": "ipython3",
   "version": "3.8.3"
  }
 },
 "nbformat": 4,
 "nbformat_minor": 4
}
