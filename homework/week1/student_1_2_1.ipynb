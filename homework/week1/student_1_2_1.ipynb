{
 "cells": [
  {
   "cell_type": "markdown",
   "metadata": {},
   "source": [
    "# Python data insights\n",
    "### 1.2.1"
   ]
  },
  {
   "cell_type": "markdown",
   "metadata": {},
   "source": [
    "### Read csv file\n",
    "import module and read file"
   ]
  },
  {
   "cell_type": "code",
   "execution_count": 1,
   "metadata": {},
   "outputs": [
    {
     "name": "stdout",
     "output_type": "stream",
     "text": [
      "abilities              ['Overgrow', 'Chlorophyll']\n",
      "against_bug                                      1\n",
      "against_dark                                     1\n",
      "against_dragon                                   1\n",
      "against_electric                               0.5\n",
      "against_fairy                                  0.5\n",
      "against_fight                                  0.5\n",
      "against_fire                                     2\n",
      "against_flying                                   2\n",
      "against_ghost                                    1\n",
      "against_grass                                 0.25\n",
      "against_ground                                   1\n",
      "against_ice                                      2\n",
      "against_normal                                   1\n",
      "against_poison                                   1\n",
      "against_psychic                                  2\n",
      "against_rock                                     1\n",
      "against_steel                                    1\n",
      "against_water                                  0.5\n",
      "attack                                          49\n",
      "base_egg_steps                                5120\n",
      "base_happiness                                  70\n",
      "base_total                                     318\n",
      "capture_rate                                    45\n",
      "classfication                         Seed Pokémon\n",
      "defense                                         49\n",
      "experience_growth                          1059860\n",
      "height_m                                       0.7\n",
      "hp                                              45\n",
      "japanese_name                     Fushigidaneフシギダネ\n",
      "name                                     Bulbasaur\n",
      "percentage_male                               88.1\n",
      "pokedex_number                                   1\n",
      "sp_attack                                       65\n",
      "sp_defense                                      65\n",
      "speed                                           45\n",
      "type1                                        grass\n",
      "type2                                       poison\n",
      "weight_kg                                      6.9\n",
      "generation                                       1\n",
      "is_legendary                                     0\n"
     ]
    }
   ],
   "source": [
    "# import module\n",
    "import csv\n",
    "\n",
    "# load file\n",
    "with open(\"pokemon.csv\") as f:\n",
    "    pokemon_reader = csv.reader(f)\n",
    "    header, *rows = list(pokemon_reader)\n",
    "\n",
    "# print first row with header (column names)\n",
    "for col_name, field in zip(header, rows[0]):\n",
    "    print(f\"{col_name:<20}{field:>30}\")"
   ]
  },
  {
   "cell_type": "markdown",
   "metadata": {},
   "source": [
    "## Question 1: How many water pokemon are in the set?\n",
    "You can find the types in the columns named `type1` and `type2`, either of those must be water.\n",
    "\n",
    "use `<list>.index(\"value\")` to find the index of  `\"value\"` in a list"
   ]
  },
  {
   "cell_type": "code",
   "execution_count": null,
   "metadata": {},
   "outputs": [],
   "source": [
    "..."
   ]
  },
  {
   "cell_type": "markdown",
   "metadata": {},
   "source": [
    "### [OPTIONAL] Question 1a: How many pokemon are there of each type?"
   ]
  },
  {
   "cell_type": "code",
   "execution_count": null,
   "metadata": {},
   "outputs": [],
   "source": [
    "..."
   ]
  }
 ],
 "metadata": {
  "kernelspec": {
   "display_name": "Python 3",
   "language": "python",
   "name": "python3"
  },
  "language_info": {
   "codemirror_mode": {
    "name": "ipython",
    "version": 3
   },
   "file_extension": ".py",
   "mimetype": "text/x-python",
   "name": "python",
   "nbconvert_exporter": "python",
   "pygments_lexer": "ipython3",
   "version": "3.8.3"
  }
 },
 "nbformat": 4,
 "nbformat_minor": 4
}
